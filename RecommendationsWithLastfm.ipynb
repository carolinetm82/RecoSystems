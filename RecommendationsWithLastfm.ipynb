{
 "cells": [
  {
   "cell_type": "code",
   "execution_count": 1,
   "metadata": {},
   "outputs": [],
   "source": [
    "import pandas as pd\n",
    "import numpy as np\n",
    "#np.random.seed(42)"
   ]
  },
  {
   "cell_type": "code",
   "execution_count": 2,
   "metadata": {},
   "outputs": [
    {
     "name": "stdout",
     "output_type": "stream",
     "text": [
      "                    totalUsers  totalPlays     avgPlays\n",
      "name                                                   \n",
      "Britney Spears             522     2393140  4584.559387\n",
      "Depeche Mode               282     1301308  4614.567376\n",
      "Lady Gaga                  611     1291387  2113.563011\n",
      "Christina Aguilera         407     1058405  2600.503686\n",
      "Paramore                   399      963449  2414.659148\n",
      "...                        ...         ...          ...\n",
      "Morris                       1           1     1.000000\n",
      "Eddie Kendricks              1           1     1.000000\n",
      "Excess Pressure              1           1     1.000000\n",
      "My Mine                      1           1     1.000000\n",
      "A.M. Architect               1           1     1.000000\n",
      "\n",
      "[17632 rows x 3 columns]\n"
     ]
    }
   ],
   "source": [
    "plays = pd.read_csv('user_artists.dat', sep='\\t')\n",
    "artists = pd.read_csv('artists.dat', sep='\\t', usecols=['id','name'])\n",
    "\n",
    "# Merge artist and user pref data\n",
    "ap = pd.merge(artists, plays, how=\"inner\", left_on=\"id\", right_on=\"artistID\")\n",
    "ap = ap.rename(columns={\"weight\": \"playCount\"})\n",
    "\n",
    "# Group artist by name\n",
    "artist_rank = ap.groupby(['name']) \\\n",
    "    .agg({'userID' : 'count', 'playCount' : 'sum'}) \\\n",
    "    .rename(columns={\"userID\" : 'totalUsers', \"playCount\" : \"totalPlays\"}) \\\n",
    "    .sort_values(['totalPlays'], ascending=False)\n",
    "\n",
    "artist_rank['avgPlays'] = artist_rank['totalPlays'] / artist_rank['totalUsers']\n",
    "print(artist_rank)"
   ]
  },
  {
   "cell_type": "code",
   "execution_count": 3,
   "metadata": {},
   "outputs": [
    {
     "name": "stdout",
     "output_type": "stream",
     "text": [
      "sparsity: 0.28\n"
     ]
    }
   ],
   "source": [
    "# Merge into ap matrix\n",
    "ap = ap.join(artist_rank, on=\"name\", how=\"inner\") \\\n",
    "    .sort_values(['playCount'], ascending=False)\n",
    "\n",
    "# Preprocessing\n",
    "pc = ap.playCount\n",
    "play_count_scaled = (pc - pc.min()) / (pc.max() - pc.min())\n",
    "ap = ap.assign(playCountScaled=play_count_scaled)\n",
    "#print(ap)\n",
    "\n",
    "# Build a user-artist rating matrix \n",
    "ratings_df = ap.pivot(index='userID', columns='artistID', values='playCountScaled')\n",
    "ratings = ratings_df.fillna(0).values\n",
    "\n",
    "# Show sparsity\n",
    "sparsity = float(len(ratings.nonzero()[0])) / (ratings.shape[0] * ratings.shape[1]) * 100\n",
    "print(\"sparsity: %.2f\" % sparsity)\n"
   ]
  },
  {
   "cell_type": "code",
   "execution_count": 4,
   "metadata": {},
   "outputs": [
    {
     "data": {
      "text/html": [
       "<div>\n",
       "<style scoped>\n",
       "    .dataframe tbody tr th:only-of-type {\n",
       "        vertical-align: middle;\n",
       "    }\n",
       "\n",
       "    .dataframe tbody tr th {\n",
       "        vertical-align: top;\n",
       "    }\n",
       "\n",
       "    .dataframe thead th {\n",
       "        text-align: right;\n",
       "    }\n",
       "</style>\n",
       "<table border=\"1\" class=\"dataframe\">\n",
       "  <thead>\n",
       "    <tr style=\"text-align: right;\">\n",
       "      <th></th>\n",
       "      <th>id</th>\n",
       "      <th>name</th>\n",
       "      <th>userID</th>\n",
       "      <th>artistID</th>\n",
       "      <th>playCount</th>\n",
       "      <th>totalUsers</th>\n",
       "      <th>totalPlays</th>\n",
       "      <th>avgPlays</th>\n",
       "      <th>playCountScaled</th>\n",
       "    </tr>\n",
       "  </thead>\n",
       "  <tbody>\n",
       "    <tr>\n",
       "      <th>2800</th>\n",
       "      <td>72</td>\n",
       "      <td>Depeche Mode</td>\n",
       "      <td>1642</td>\n",
       "      <td>72</td>\n",
       "      <td>352698</td>\n",
       "      <td>282</td>\n",
       "      <td>1301308</td>\n",
       "      <td>4614.567376</td>\n",
       "      <td>1.000000</td>\n",
       "    </tr>\n",
       "    <tr>\n",
       "      <th>35843</th>\n",
       "      <td>792</td>\n",
       "      <td>Thalía</td>\n",
       "      <td>2071</td>\n",
       "      <td>792</td>\n",
       "      <td>324663</td>\n",
       "      <td>26</td>\n",
       "      <td>350035</td>\n",
       "      <td>13462.884615</td>\n",
       "      <td>0.920513</td>\n",
       "    </tr>\n",
       "    <tr>\n",
       "      <th>27302</th>\n",
       "      <td>511</td>\n",
       "      <td>U2</td>\n",
       "      <td>1094</td>\n",
       "      <td>511</td>\n",
       "      <td>320725</td>\n",
       "      <td>185</td>\n",
       "      <td>493024</td>\n",
       "      <td>2664.994595</td>\n",
       "      <td>0.909347</td>\n",
       "    </tr>\n",
       "    <tr>\n",
       "      <th>8152</th>\n",
       "      <td>203</td>\n",
       "      <td>Blur</td>\n",
       "      <td>1905</td>\n",
       "      <td>203</td>\n",
       "      <td>257978</td>\n",
       "      <td>114</td>\n",
       "      <td>318221</td>\n",
       "      <td>2791.412281</td>\n",
       "      <td>0.731441</td>\n",
       "    </tr>\n",
       "    <tr>\n",
       "      <th>26670</th>\n",
       "      <td>498</td>\n",
       "      <td>Paramore</td>\n",
       "      <td>1664</td>\n",
       "      <td>498</td>\n",
       "      <td>227829</td>\n",
       "      <td>399</td>\n",
       "      <td>963449</td>\n",
       "      <td>2414.659148</td>\n",
       "      <td>0.645960</td>\n",
       "    </tr>\n",
       "    <tr>\n",
       "      <th>...</th>\n",
       "      <td>...</td>\n",
       "      <td>...</td>\n",
       "      <td>...</td>\n",
       "      <td>...</td>\n",
       "      <td>...</td>\n",
       "      <td>...</td>\n",
       "      <td>...</td>\n",
       "      <td>...</td>\n",
       "      <td>...</td>\n",
       "    </tr>\n",
       "    <tr>\n",
       "      <th>38688</th>\n",
       "      <td>913</td>\n",
       "      <td>Destiny's Child</td>\n",
       "      <td>1810</td>\n",
       "      <td>913</td>\n",
       "      <td>1</td>\n",
       "      <td>83</td>\n",
       "      <td>34746</td>\n",
       "      <td>418.626506</td>\n",
       "      <td>0.000000</td>\n",
       "    </tr>\n",
       "    <tr>\n",
       "      <th>32955</th>\n",
       "      <td>697</td>\n",
       "      <td>Sia</td>\n",
       "      <td>1290</td>\n",
       "      <td>697</td>\n",
       "      <td>1</td>\n",
       "      <td>56</td>\n",
       "      <td>27597</td>\n",
       "      <td>492.803571</td>\n",
       "      <td>0.000000</td>\n",
       "    </tr>\n",
       "    <tr>\n",
       "      <th>71811</th>\n",
       "      <td>4988</td>\n",
       "      <td>Chris Spheeris</td>\n",
       "      <td>510</td>\n",
       "      <td>4988</td>\n",
       "      <td>1</td>\n",
       "      <td>5</td>\n",
       "      <td>3106</td>\n",
       "      <td>621.200000</td>\n",
       "      <td>0.000000</td>\n",
       "    </tr>\n",
       "    <tr>\n",
       "      <th>91319</th>\n",
       "      <td>17080</td>\n",
       "      <td>Haylie Duff</td>\n",
       "      <td>1851</td>\n",
       "      <td>17080</td>\n",
       "      <td>1</td>\n",
       "      <td>1</td>\n",
       "      <td>1</td>\n",
       "      <td>1.000000</td>\n",
       "      <td>0.000000</td>\n",
       "    </tr>\n",
       "    <tr>\n",
       "      <th>63982</th>\n",
       "      <td>3201</td>\n",
       "      <td>Kate Bush</td>\n",
       "      <td>344</td>\n",
       "      <td>3201</td>\n",
       "      <td>1</td>\n",
       "      <td>42</td>\n",
       "      <td>17408</td>\n",
       "      <td>414.476190</td>\n",
       "      <td>0.000000</td>\n",
       "    </tr>\n",
       "  </tbody>\n",
       "</table>\n",
       "<p>92834 rows × 9 columns</p>\n",
       "</div>"
      ],
      "text/plain": [
       "          id             name  userID  artistID  playCount  totalUsers  \\\n",
       "2800      72     Depeche Mode    1642        72     352698         282   \n",
       "35843    792           Thalía    2071       792     324663          26   \n",
       "27302    511               U2    1094       511     320725         185   \n",
       "8152     203             Blur    1905       203     257978         114   \n",
       "26670    498         Paramore    1664       498     227829         399   \n",
       "...      ...              ...     ...       ...        ...         ...   \n",
       "38688    913  Destiny's Child    1810       913          1          83   \n",
       "32955    697              Sia    1290       697          1          56   \n",
       "71811   4988   Chris Spheeris     510      4988          1           5   \n",
       "91319  17080      Haylie Duff    1851     17080          1           1   \n",
       "63982   3201        Kate Bush     344      3201          1          42   \n",
       "\n",
       "       totalPlays      avgPlays  playCountScaled  \n",
       "2800      1301308   4614.567376         1.000000  \n",
       "35843      350035  13462.884615         0.920513  \n",
       "27302      493024   2664.994595         0.909347  \n",
       "8152       318221   2791.412281         0.731441  \n",
       "26670      963449   2414.659148         0.645960  \n",
       "...           ...           ...              ...  \n",
       "38688       34746    418.626506         0.000000  \n",
       "32955       27597    492.803571         0.000000  \n",
       "71811        3106    621.200000         0.000000  \n",
       "91319           1      1.000000         0.000000  \n",
       "63982       17408    414.476190         0.000000  \n",
       "\n",
       "[92834 rows x 9 columns]"
      ]
     },
     "execution_count": 4,
     "metadata": {},
     "output_type": "execute_result"
    }
   ],
   "source": [
    "ap"
   ]
  },
  {
   "cell_type": "code",
   "execution_count": 5,
   "metadata": {},
   "outputs": [
    {
     "name": "stdout",
     "output_type": "stream",
     "text": [
      "rating matrix shape (1892, 17632)\n"
     ]
    }
   ],
   "source": [
    "from scipy.sparse import csr_matrix\n",
    "\n",
    "# Build a sparse matrix\n",
    "X = csr_matrix(ratings)\n",
    "\n",
    "n_users, n_items = ratings_df.shape\n",
    "print(\"rating matrix shape\", ratings_df.shape)\n",
    "\n",
    "user_ids = ratings_df.index.values\n",
    "artist_names = ap.sort_values(\"artistID\")[\"name\"].unique()"
   ]
  },
  {
   "cell_type": "code",
   "execution_count": 6,
   "metadata": {},
   "outputs": [],
   "source": [
    "seed = 42\n",
    "from lightfm import LightFM\n",
    "from lightfm.evaluation import auc_score, precision_at_k, recall_at_k\n",
    "from lightfm.cross_validation import random_train_test_split\n",
    "from lightfm.data import Dataset\n",
    "\n",
    "# Build data references + train test\n",
    "Xcoo = X.tocoo()\n",
    "data = Dataset()\n",
    "data.fit(np.arange(n_users), np.arange(n_items))\n",
    "interactions, weights = data.build_interactions(zip(Xcoo.row, Xcoo.col, Xcoo.data)) \n",
    "train, test = random_train_test_split(interactions,random_state=np.random.RandomState(seed))\n"
   ]
  },
  {
   "cell_type": "code",
   "execution_count": 7,
   "metadata": {},
   "outputs": [
    {
     "data": {
      "text/plain": [
       "<1892x17632 sparse matrix of type '<class 'numpy.int32'>'\n",
       "\twith 73758 stored elements in COOrdinate format>"
      ]
     },
     "execution_count": 7,
     "metadata": {},
     "output_type": "execute_result"
    }
   ],
   "source": [
    "train"
   ]
  },
  {
   "cell_type": "code",
   "execution_count": 8,
   "metadata": {},
   "outputs": [
    {
     "data": {
      "text/plain": [
       "<lightfm.lightfm.LightFM at 0x7fda795ed340>"
      ]
     },
     "execution_count": 8,
     "metadata": {},
     "output_type": "execute_result"
    }
   ],
   "source": [
    "# Train\n",
    "model = LightFM(learning_rate=0.05, loss='warp')\n",
    "model.fit(train, epochs=10, num_threads=2)"
   ]
  },
  {
   "cell_type": "code",
   "execution_count": 9,
   "metadata": {},
   "outputs": [
    {
     "name": "stdout",
     "output_type": "stream",
     "text": [
      "Precision: train 0.37, test 0.13.\n",
      "AUC: train 0.96, test 0.86.\n"
     ]
    }
   ],
   "source": [
    "# Evaluate\n",
    "train_precision = precision_at_k(model, train, k=10).mean()\n",
    "test_precision = precision_at_k(model, test, k=10, train_interactions=train).mean()\n",
    "\n",
    "train_auc = auc_score(model, train).mean()\n",
    "test_auc = auc_score(model, test, train_interactions=train).mean()\n",
    "\n",
    "print('Precision: train %.2f, test %.2f.' % (train_precision, test_precision))\n",
    "print('AUC: train %.2f, test %.2f.' % (train_auc, test_auc))"
   ]
  },
  {
   "cell_type": "code",
   "execution_count": 10,
   "metadata": {},
   "outputs": [
    {
     "name": "stdout",
     "output_type": "stream",
     "text": [
      "['The Beatles' 'Radiohead' 'Depeche Mode' ... 'The Blues Busters' 'Sizzla'\n",
      " 'I Wayne']\n"
     ]
    }
   ],
   "source": [
    "# Predict\n",
    "scores = model.predict(0, np.arange(n_items))\n",
    "top_items = artist_names[np.argsort(-scores)]\n",
    "print(top_items)"
   ]
  },
  {
   "cell_type": "code",
   "execution_count": 11,
   "metadata": {},
   "outputs": [],
   "source": [
    "# Evaluate\n",
    "def evaluate(model):\n",
    "   model.fit(train, epochs=10, num_threads=2)\n",
    "   train_precision = precision_at_k(model, train, k=10).mean()\n",
    "   test_precision = precision_at_k(model, test, k=10, train_interactions=train).mean()\n",
    "\n",
    "   train_auc = auc_score(model, train).mean()\n",
    "   test_auc = auc_score(model, test, train_interactions=train).mean()\n",
    "\n",
    "   print('Precision: train %.2f, test %.2f.' % (train_precision, test_precision))\n",
    "   print('AUC: train %.2f, test %.2f.' % (train_auc, test_auc))\n",
    "\n",
    "   # Predict\n",
    "   scores = model.predict(0, np.arange(n_items))\n",
    "   top_items = artist_names[np.argsort(-scores)]\n",
    "   print(top_items)"
   ]
  },
  {
   "cell_type": "code",
   "execution_count": 12,
   "metadata": {},
   "outputs": [],
   "source": [
    "def scoring():\n",
    "    learning_ratelist = [0.05,0.10]\n",
    "    losslist=['bpr','warp']\n",
    "    result = []\n",
    "    \n",
    "    for elt in learning_ratelist:\n",
    "        for i in losslist:\n",
    "               model = LightFM(learning_rate=elt, loss=i)\n",
    "               model.fit(train, epochs=10, num_threads=2)\n",
    "               train_precision = precision_at_k(model, train, k=10).mean()\n",
    "               test_precision = precision_at_k(model, test, k=10, train_interactions=train).mean()\n",
    "\n",
    "               train_auc = auc_score(model, train).mean()\n",
    "               test_auc = auc_score(model, test, train_interactions=train).mean()\n",
    "\n",
    "               dictmap = ()\n",
    "               dictmap = {'name' :i,'learning rate' : elt,\n",
    "                          'train_precision':train_precision,'test_precision':test_precision,\n",
    "                          'train_auc' : train_auc,'test_auc':test_auc}\n",
    "            \n",
    "               result.append(dictmap)\n",
    "    result = pd.DataFrame(result)       \n",
    "    return result"
   ]
  },
  {
   "cell_type": "code",
   "execution_count": 13,
   "metadata": {},
   "outputs": [
    {
     "data": {
      "text/html": [
       "<div>\n",
       "<style scoped>\n",
       "    .dataframe tbody tr th:only-of-type {\n",
       "        vertical-align: middle;\n",
       "    }\n",
       "\n",
       "    .dataframe tbody tr th {\n",
       "        vertical-align: top;\n",
       "    }\n",
       "\n",
       "    .dataframe thead th {\n",
       "        text-align: right;\n",
       "    }\n",
       "</style>\n",
       "<table border=\"1\" class=\"dataframe\">\n",
       "  <thead>\n",
       "    <tr style=\"text-align: right;\">\n",
       "      <th></th>\n",
       "      <th>name</th>\n",
       "      <th>learning rate</th>\n",
       "      <th>train_precision</th>\n",
       "      <th>test_precision</th>\n",
       "      <th>train_auc</th>\n",
       "      <th>test_auc</th>\n",
       "    </tr>\n",
       "  </thead>\n",
       "  <tbody>\n",
       "    <tr>\n",
       "      <th>0</th>\n",
       "      <td>bpr</td>\n",
       "      <td>0.05</td>\n",
       "      <td>0.362606</td>\n",
       "      <td>0.120502</td>\n",
       "      <td>0.849268</td>\n",
       "      <td>0.781288</td>\n",
       "    </tr>\n",
       "    <tr>\n",
       "      <th>1</th>\n",
       "      <td>warp</td>\n",
       "      <td>0.05</td>\n",
       "      <td>0.375212</td>\n",
       "      <td>0.129098</td>\n",
       "      <td>0.965788</td>\n",
       "      <td>0.858590</td>\n",
       "    </tr>\n",
       "    <tr>\n",
       "      <th>2</th>\n",
       "      <td>bpr</td>\n",
       "      <td>0.10</td>\n",
       "      <td>0.413771</td>\n",
       "      <td>0.122157</td>\n",
       "      <td>0.913769</td>\n",
       "      <td>0.808196</td>\n",
       "    </tr>\n",
       "    <tr>\n",
       "      <th>3</th>\n",
       "      <td>warp</td>\n",
       "      <td>0.10</td>\n",
       "      <td>0.378867</td>\n",
       "      <td>0.124346</td>\n",
       "      <td>0.983737</td>\n",
       "      <td>0.844180</td>\n",
       "    </tr>\n",
       "  </tbody>\n",
       "</table>\n",
       "</div>"
      ],
      "text/plain": [
       "   name  learning rate  train_precision  test_precision  train_auc  test_auc\n",
       "0   bpr           0.05         0.362606        0.120502   0.849268  0.781288\n",
       "1  warp           0.05         0.375212        0.129098   0.965788  0.858590\n",
       "2   bpr           0.10         0.413771        0.122157   0.913769  0.808196\n",
       "3  warp           0.10         0.378867        0.124346   0.983737  0.844180"
      ]
     },
     "execution_count": 13,
     "metadata": {},
     "output_type": "execute_result"
    }
   ],
   "source": [
    "scoring()"
   ]
  },
  {
   "cell_type": "code",
   "execution_count": 14,
   "metadata": {},
   "outputs": [],
   "source": [
    "def get_recommendation(model, ratings_df, user_ids):\n",
    "\n",
    "\n",
    "    n_users, n_items = ratings_df.shape\n",
    "\n",
    "    for user_id in user_ids:\n",
    "        scores = model.predict(user_id, np.arange(n_items))\n",
    "        top_items = artist_names[np.argsort(-scores)]\n",
    "\n",
    "        print(\"User %s\" % user_id)\n",
    "\n",
    "        print(\"     Recommended:\")\n",
    "\n",
    "        for x in top_items[:20]:\n",
    "            print(\"        %s\" % x)\n"
   ]
  },
  {
   "cell_type": "code",
   "execution_count": 15,
   "metadata": {},
   "outputs": [
    {
     "data": {
      "text/plain": [
       "array([    0,     1,     2, ..., 17629, 17630, 17631])"
      ]
     },
     "execution_count": 15,
     "metadata": {},
     "output_type": "execute_result"
    }
   ],
   "source": [
    "np.arange(n_items)"
   ]
  },
  {
   "cell_type": "code",
   "execution_count": 16,
   "metadata": {},
   "outputs": [
    {
     "data": {
      "text/plain": [
       "(1892, 17632)"
      ]
     },
     "execution_count": 16,
     "metadata": {},
     "output_type": "execute_result"
    }
   ],
   "source": [
    "ratings_df.shape"
   ]
  },
  {
   "cell_type": "code",
   "execution_count": 17,
   "metadata": {},
   "outputs": [
    {
     "data": {
      "text/plain": [
       "(92834, 9)"
      ]
     },
     "execution_count": 17,
     "metadata": {},
     "output_type": "execute_result"
    }
   ],
   "source": [
    "ap.shape"
   ]
  },
  {
   "cell_type": "code",
   "execution_count": 18,
   "metadata": {},
   "outputs": [
    {
     "data": {
      "text/html": [
       "<div>\n",
       "<style scoped>\n",
       "    .dataframe tbody tr th:only-of-type {\n",
       "        vertical-align: middle;\n",
       "    }\n",
       "\n",
       "    .dataframe tbody tr th {\n",
       "        vertical-align: top;\n",
       "    }\n",
       "\n",
       "    .dataframe thead th {\n",
       "        text-align: right;\n",
       "    }\n",
       "</style>\n",
       "<table border=\"1\" class=\"dataframe\">\n",
       "  <thead>\n",
       "    <tr style=\"text-align: right;\">\n",
       "      <th></th>\n",
       "      <th>name</th>\n",
       "      <th>userID</th>\n",
       "      <th>playCountScaled</th>\n",
       "    </tr>\n",
       "  </thead>\n",
       "  <tbody>\n",
       "    <tr>\n",
       "      <th>542</th>\n",
       "      <td>Duran Duran</td>\n",
       "      <td>2</td>\n",
       "      <td>0.039360</td>\n",
       "    </tr>\n",
       "    <tr>\n",
       "      <th>653</th>\n",
       "      <td>Morcheeba</td>\n",
       "      <td>2</td>\n",
       "      <td>0.033142</td>\n",
       "    </tr>\n",
       "    <tr>\n",
       "      <th>676</th>\n",
       "      <td>Air</td>\n",
       "      <td>2</td>\n",
       "      <td>0.032181</td>\n",
       "    </tr>\n",
       "    <tr>\n",
       "      <th>751</th>\n",
       "      <td>Hooverphonic</td>\n",
       "      <td>2</td>\n",
       "      <td>0.029201</td>\n",
       "    </tr>\n",
       "    <tr>\n",
       "      <th>769</th>\n",
       "      <td>Kylie Minogue</td>\n",
       "      <td>2</td>\n",
       "      <td>0.025467</td>\n",
       "    </tr>\n",
       "    <tr>\n",
       "      <th>...</th>\n",
       "      <td>...</td>\n",
       "      <td>...</td>\n",
       "      <td>...</td>\n",
       "    </tr>\n",
       "    <tr>\n",
       "      <th>87884</th>\n",
       "      <td>Moëvöt</td>\n",
       "      <td>2100</td>\n",
       "      <td>0.000785</td>\n",
       "    </tr>\n",
       "    <tr>\n",
       "      <th>92821</th>\n",
       "      <td>Les Chants de Nihil</td>\n",
       "      <td>2100</td>\n",
       "      <td>0.000743</td>\n",
       "    </tr>\n",
       "    <tr>\n",
       "      <th>68926</th>\n",
       "      <td>ColdWorld</td>\n",
       "      <td>2100</td>\n",
       "      <td>0.000729</td>\n",
       "    </tr>\n",
       "    <tr>\n",
       "      <th>80302</th>\n",
       "      <td>Dissimulation</td>\n",
       "      <td>2100</td>\n",
       "      <td>0.000655</td>\n",
       "    </tr>\n",
       "    <tr>\n",
       "      <th>82867</th>\n",
       "      <td>novemthree</td>\n",
       "      <td>2100</td>\n",
       "      <td>0.000644</td>\n",
       "    </tr>\n",
       "  </tbody>\n",
       "</table>\n",
       "<p>92834 rows × 3 columns</p>\n",
       "</div>"
      ],
      "text/plain": [
       "                      name  userID  playCountScaled\n",
       "542            Duran Duran       2         0.039360\n",
       "653              Morcheeba       2         0.033142\n",
       "676                    Air       2         0.032181\n",
       "751           Hooverphonic       2         0.029201\n",
       "769          Kylie Minogue       2         0.025467\n",
       "...                    ...     ...              ...\n",
       "87884               Moëvöt    2100         0.000785\n",
       "92821  Les Chants de Nihil    2100         0.000743\n",
       "68926            ColdWorld    2100         0.000729\n",
       "80302        Dissimulation    2100         0.000655\n",
       "82867           novemthree    2100         0.000644\n",
       "\n",
       "[92834 rows x 3 columns]"
      ]
     },
     "execution_count": 18,
     "metadata": {},
     "output_type": "execute_result"
    }
   ],
   "source": [
    "ap[['name','userID','playCountScaled']].sort_values(['userID','playCountScaled'],ascending=[True,False])"
   ]
  },
  {
   "cell_type": "code",
   "execution_count": 19,
   "metadata": {},
   "outputs": [
    {
     "name": "stdout",
     "output_type": "stream",
     "text": [
      "User 2\n",
      "     Recommended:\n",
      "        The Beatles\n",
      "        Radiohead\n",
      "        Muse\n",
      "        The Cure\n",
      "        Depeche Mode\n",
      "        Coldplay\n",
      "        Nirvana\n",
      "        Red Hot Chili Peppers\n",
      "        Placebo\n",
      "        The Killers\n",
      "        Pink Floyd\n",
      "        Kings of Leon\n",
      "        Queen\n",
      "        Metallica\n",
      "        Oasis\n",
      "        The Kooks\n",
      "        Björk\n",
      "        The Strokes\n",
      "        Daft Punk\n",
      "        Arctic Monkeys\n"
     ]
    }
   ],
   "source": [
    "get_recommendation(model, ratings_df, [2])"
   ]
  },
  {
   "cell_type": "code",
   "execution_count": 20,
   "metadata": {},
   "outputs": [],
   "source": [
    "def get_ground_truth(user):\n",
    "    gt = ap[ap['userID']==user][['name','userID','playCountScaled']].sort_values(['playCountScaled'],ascending=False)\n",
    "    return gt['name']"
   ]
  },
  {
   "cell_type": "code",
   "execution_count": 21,
   "metadata": {},
   "outputs": [
    {
     "data": {
      "text/plain": [
       "542              Duran Duran\n",
       "653                Morcheeba\n",
       "676                      Air\n",
       "751             Hooverphonic\n",
       "769            Kylie Minogue\n",
       "1067               Daft Punk\n",
       "1218    Thievery Corporation\n",
       "1237               Goldfrapp\n",
       "1319               New Order\n",
       "1426             Matt Bianco\n",
       "1428               Talk Talk\n",
       "1453           Prefab Sprout\n",
       "1456                  Enigma\n",
       "1497                Röyksopp\n",
       "1568                Coldplay\n",
       "1937               Faithless\n",
       "1956                 Madonna\n",
       "2385                Icehouse\n",
       "2402                    Sade\n",
       "2431                    Moby\n",
       "2516                    Dido\n",
       "2573            Depeche Mode\n",
       "2855            Café Del Mar\n",
       "2862                   Basia\n",
       "2863              Camouflage\n",
       "2895              Electronic\n",
       "2910          George Michael\n",
       "2953          The Adventures\n",
       "2955         Fiction Factory\n",
       "2956           Groove Armada\n",
       "2970              Portishead\n",
       "3077             Marc Almond\n",
       "3086              Cock Robin\n",
       "3087                Cut Copy\n",
       "3128          Spandau Ballet\n",
       "3149             Katie Melua\n",
       "3167             Deacon Blue\n",
       "3168                Gorillaz\n",
       "3292               Lady Gaga\n",
       "3903                 Kosheen\n",
       "3909             Nik Kershaw\n",
       "3920               Vitamin Z\n",
       "3921       Jean-Michel Jarre\n",
       "3937       Ministry of Sound\n",
       "3939              Simply Red\n",
       "3952           Fleetwood Mac\n",
       "3994                   Duffy\n",
       "4074                   Japan\n",
       "4096                    INXS\n",
       "4145                     ABC\n",
       "Name: name, dtype: object"
      ]
     },
     "execution_count": 21,
     "metadata": {},
     "output_type": "execute_result"
    }
   ],
   "source": [
    "get_ground_truth(2)"
   ]
  },
  {
   "cell_type": "code",
   "execution_count": 22,
   "metadata": {},
   "outputs": [
    {
     "name": "stdout",
     "output_type": "stream",
     "text": [
      "[0.03013438 0.02108422 0.01236868 0.01135097 0.00813483]\n",
      "0.08307307\n",
      "[65.40983  44.692722 29.753304 28.463861 24.156944]\n"
     ]
    }
   ],
   "source": [
    "from sklearn.decomposition import TruncatedSVD\n",
    "from scipy.sparse import random as sparse_random\n",
    "\n",
    "svd = TruncatedSVD(n_components=5, n_iter=7, random_state=42)\n",
    "svd_mod=svd.fit(train)\n",
    "print(svd_mod.explained_variance_ratio_)\n",
    "\n",
    "print(svd_mod.explained_variance_ratio_.sum())\n",
    "\n",
    "print(svd_mod.singular_values_)"
   ]
  },
  {
   "cell_type": "code",
   "execution_count": 23,
   "metadata": {},
   "outputs": [],
   "source": [
    "import time\n",
    "alpha = 1e-05\n",
    "epochs = 20\n",
    "num_components = 32\n",
    "\n",
    "\n",
    "warp_duration = []\n",
    "bpr_duration = []\n",
    "warp_auc = []\n",
    "bpr_auc = []\n",
    "\n",
    "for epoch in range(epochs):\n",
    "    start = time.time()\n",
    "    model.fit_partial(train, epochs=1)\n",
    "    warp_duration.append(time.time() - start)\n",
    "    warp_auc.append(auc_score(model, test, train_interactions=train).mean())\n",
    "\n",
    "for epoch in range(epochs):\n",
    "    start = time.time()\n",
    "    model.fit_partial(train, epochs=1)\n",
    "    bpr_duration.append(time.time() - start)\n",
    "    bpr_auc.append(auc_score(model, test, train_interactions=train).mean())"
   ]
  },
  {
   "cell_type": "code",
   "execution_count": 24,
   "metadata": {},
   "outputs": [
    {
     "data": {
      "image/png": "[encoded data removed]",
      "text/plain": [
       "<Figure size 432x288 with 1 Axes>"
      ]
     },
     "metadata": {
      "needs_background": "light"
     },
     "output_type": "display_data"
    }
   ],
   "source": [
    "import numpy as np\n",
    "\n",
    "%matplotlib inline\n",
    "\n",
    "import matplotlib\n",
    "import numpy as np\n",
    "import matplotlib.pyplot as plt\n",
    "\n",
    "\n",
    "x = np.arange(epochs)\n",
    "plt.plot(x, np.array(warp_auc))\n",
    "plt.plot(x, np.array(bpr_auc))\n",
    "plt.legend(['WARP AUC', 'BPR AUC'], loc='upper right')\n",
    "plt.show()"
   ]
  },
  {
   "cell_type": "code",
   "execution_count": 25,
   "metadata": {},
   "outputs": [],
   "source": [
    "import itertools\n",
    "\n",
    "import numpy as np\n",
    "\n",
    "from lightfm import LightFM\n",
    "from lightfm.evaluation import auc_score\n",
    "\n",
    "\n",
    "def sample_hyperparameters():\n",
    "    \"\"\"\n",
    "    Yield possible hyperparameter choices.\n",
    "    \"\"\"\n",
    "\n",
    "    while True:\n",
    "        yield {\n",
    "            \"no_components\": np.random.randint(16, 64),\n",
    "            \"learning_schedule\": np.random.choice([\"adagrad\", \"adadelta\"]),\n",
    "            \"loss\": np.random.choice([\"bpr\", \"warp\", \"warp-kos\"]),\n",
    "            \"learning_rate\": np.random.exponential(0.05),\n",
    "            \"item_alpha\": np.random.exponential(1e-8),\n",
    "            \"user_alpha\": np.random.exponential(1e-8),\n",
    "            \"max_sampled\": np.random.randint(5, 15),\n",
    "            \"num_epochs\": np.random.randint(5, 50),\n",
    "        }\n",
    "\n",
    "\n",
    "def random_search(train, test, num_samples=10, num_threads=1):\n",
    "    \"\"\"\n",
    "    Sample random hyperparameters, fit a LightFM model, and evaluate it\n",
    "    on the test set.\n",
    "\n",
    "    Parameters\n",
    "    ----------\n",
    "\n",
    "    train: np.float32 coo_matrix of shape [n_users, n_items]\n",
    "        Training data.\n",
    "    test: np.float32 coo_matrix of shape [n_users, n_items]\n",
    "        Test data.\n",
    "    num_samples: int, optional\n",
    "        Number of hyperparameter choices to evaluate.\n",
    "\n",
    "\n",
    "    Returns\n",
    "    -------\n",
    "\n",
    "    generator of (auc_score, hyperparameter dict, fitted model)\n",
    "\n",
    "    \"\"\"\n",
    "\n",
    "    for hyperparams in itertools.islice(sample_hyperparameters(), num_samples):\n",
    "        num_epochs = hyperparams.pop(\"num_epochs\")\n",
    "\n",
    "        model = LightFM(**hyperparams)\n",
    "        model.fit(train, epochs=num_epochs, num_threads=num_threads)\n",
    "\n",
    "        score = auc_score(model, test, train_interactions=train, num_threads=num_threads).mean()\n",
    "\n",
    "        hyperparams[\"num_epochs\"] = num_epochs\n",
    "\n",
    "        yield (score, hyperparams, model)\n"
   ]
  },
  {
   "cell_type": "code",
   "execution_count": 26,
   "metadata": {},
   "outputs": [
    {
     "data": {
      "text/plain": [
       "<generator object random_search at 0x7fda54871660>"
      ]
     },
     "execution_count": 26,
     "metadata": {},
     "output_type": "execute_result"
    }
   ],
   "source": [
    "random_search(train, test, num_samples=10, num_threads=1)"
   ]
  },
  {
   "cell_type": "code",
   "execution_count": 27,
   "metadata": {},
   "outputs": [],
   "source": [
    "(score, hyperparams, model) = max(random_search(train, test, num_threads=2), key=lambda x: x[0])"
   ]
  },
  {
   "cell_type": "code",
   "execution_count": 28,
   "metadata": {},
   "outputs": [
    {
     "name": "stdout",
     "output_type": "stream",
     "text": [
      "Best score 0.8874611258506775 at {'no_components': 62, 'learning_schedule': 'adadelta', 'loss': 'warp', 'learning_rate': 0.018658416727541923, 'item_alpha': 1.9462170358049824e-08, 'user_alpha': 2.8758550720577514e-09, 'max_sampled': 6, 'num_epochs': 12}\n"
     ]
    }
   ],
   "source": [
    "print(\"Best score {} at {}\".format(score, hyperparams))"
   ]
  },
  {
   "cell_type": "code",
   "execution_count": 29,
   "metadata": {},
   "outputs": [
    {
     "data": {
      "text/plain": [
       "dict_items([('loss', 'warp'), ('learning_schedule', 'adadelta'), ('learning_rate', 0.08)])"
      ]
     },
     "execution_count": 29,
     "metadata": {},
     "output_type": "execute_result"
    }
   ],
   "source": [
    "# Optimisation de paramètres avec GridSearch\n",
    "\n",
    "from sklearn.model_selection import ParameterGrid# Create the parameter grid based on the results of random search \n",
    "\n",
    "param_grid = {\n",
    "    'learning_rate': [0.05 , 0.08],\n",
    "    'learning_schedule':['adagrad','adadelta'],\n",
    "    'loss': ['warp','bpr','logistic','warp-kos']\n",
    "    \n",
    "}\n",
    "# definition liste score auc\n",
    "auc_score_values = []\n",
    "\n",
    "for grid in ParameterGrid(param_grid):\n",
    "    model = LightFM(**grid)\n",
    "    pred = model.fit(train)\n",
    "    auc_score_values.append(round(auc_score(model, test, train_interactions=train).mean(),3))\n",
    "    \n",
    "max_value = max(auc_score_values) \n",
    "max_index = np.argmax(auc_score_values)\n",
    "ParameterGrid(param_grid)[max_index ].items()"
   ]
  },
  {
   "cell_type": "code",
   "execution_count": 30,
   "metadata": {},
   "outputs": [
    {
     "data": {
      "text/plain": [
       "[{'learning_rate': 0.05, 'learning_schedule': 'adagrad', 'loss': 'warp'},\n",
       " {'learning_rate': 0.05, 'learning_schedule': 'adagrad', 'loss': 'bpr'},\n",
       " {'learning_rate': 0.05, 'learning_schedule': 'adagrad', 'loss': 'logistic'},\n",
       " {'learning_rate': 0.05, 'learning_schedule': 'adagrad', 'loss': 'warp-kos'},\n",
       " {'learning_rate': 0.05, 'learning_schedule': 'adadelta', 'loss': 'warp'},\n",
       " {'learning_rate': 0.05, 'learning_schedule': 'adadelta', 'loss': 'bpr'},\n",
       " {'learning_rate': 0.05, 'learning_schedule': 'adadelta', 'loss': 'logistic'},\n",
       " {'learning_rate': 0.05, 'learning_schedule': 'adadelta', 'loss': 'warp-kos'},\n",
       " {'learning_rate': 0.08, 'learning_schedule': 'adagrad', 'loss': 'warp'},\n",
       " {'learning_rate': 0.08, 'learning_schedule': 'adagrad', 'loss': 'bpr'},\n",
       " {'learning_rate': 0.08, 'learning_schedule': 'adagrad', 'loss': 'logistic'},\n",
       " {'learning_rate': 0.08, 'learning_schedule': 'adagrad', 'loss': 'warp-kos'},\n",
       " {'learning_rate': 0.08, 'learning_schedule': 'adadelta', 'loss': 'warp'},\n",
       " {'learning_rate': 0.08, 'learning_schedule': 'adadelta', 'loss': 'bpr'},\n",
       " {'learning_rate': 0.08, 'learning_schedule': 'adadelta', 'loss': 'logistic'},\n",
       " {'learning_rate': 0.08, 'learning_schedule': 'adadelta', 'loss': 'warp-kos'}]"
      ]
     },
     "execution_count": 30,
     "metadata": {},
     "output_type": "execute_result"
    }
   ],
   "source": [
    "list(ParameterGrid(param_grid))"
   ]
  },
  {
   "cell_type": "code",
   "execution_count": 31,
   "metadata": {},
   "outputs": [
    {
     "name": "stdout",
     "output_type": "stream",
     "text": [
      "la combinaison de paramètres qui permet d'optimiser  le model : 0.8199999928474426 est la suivante \n",
      " dict_items([('loss', 'warp'), ('learning_schedule', 'adadelta'), ('learning_rate', 0.08)])\n"
     ]
    }
   ],
   "source": [
    "print(f\"la combinaison de paramètres qui permet d'optimiser  le model : {round(max_value,3)} est la suivante \\n {ParameterGrid(param_grid)[max_index ].items()}\")"
   ]
  },
  {
   "cell_type": "code",
   "execution_count": null,
   "metadata": {},
   "outputs": [],
   "source": []
  },
  {
   "cell_type": "code",
   "execution_count": null,
   "metadata": {},
   "outputs": [],
   "source": []
  },
  {
   "cell_type": "code",
   "execution_count": null,
   "metadata": {},
   "outputs": [],
   "source": []
  },
  {
   "cell_type": "code",
   "execution_count": null,
   "metadata": {},
   "outputs": [],
   "source": []
  },
  {
   "cell_type": "code",
   "execution_count": null,
   "metadata": {},
   "outputs": [],
   "source": []
  },
  {
   "cell_type": "code",
   "execution_count": null,
   "metadata": {},
   "outputs": [],
   "source": []
  }
 ],
 "metadata": {
  "kernelspec": {
   "display_name": "Python 3",
   "language": "python",
   "name": "python3"
  },
  "language_info": {
   "codemirror_mode": {
    "name": "ipython",
    "version": 3
   },
   "file_extension": ".py",
   "mimetype": "text/x-python",
   "name": "python",
   "nbconvert_exporter": "python",
   "pygments_lexer": "ipython3",
   "version": "3.8.5"
  }
 },
 "nbformat": 4,
 "nbformat_minor": 5
}
